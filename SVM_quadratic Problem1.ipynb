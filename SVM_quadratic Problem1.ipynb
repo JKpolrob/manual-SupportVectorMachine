{
 "cells": [
  {
   "cell_type": "code",
   "execution_count": 7,
   "metadata": {},
   "outputs": [],
   "source": [
    "import numpy as np\n",
    "import pandas as pd\n",
    "from matplotlib import pyplot as plt\n",
    "import seaborn as sns\n",
    "sns.set()\n",
    "from sklearn.svm import SVC\n",
    "from cvxopt import matrix as cvxopt_matrix\n",
    "from cvxopt import solvers #as cvxopt_solvers\n",
    "%matplotlib inline"
   ]
  },
  {
   "cell_type": "code",
   "execution_count": 8,
   "metadata": {},
   "outputs": [],
   "source": [
    "x_neg = np.array([[4,-4],[0,0],[0,0],[4,-2]])\n",
    "y_neg = np.array([-1,-1,-1,-1])\n",
    "\n",
    "x_pos = np.array([[4,4],[4,2],[1,2],[4,2]])\n",
    "y_pos = np.array([1,1,1,1])"
   ]
  },
  {
   "cell_type": "code",
   "execution_count": 9,
   "metadata": {},
   "outputs": [
    {
     "name": "stdout",
     "output_type": "stream",
     "text": [
      "Matrix A =\n",
      " [[-4 -4 -1]\n",
      " [-4 -2 -1]\n",
      " [-1 -2 -1]\n",
      " [-4 -2 -1]\n",
      " [ 4 -4  1]\n",
      " [ 0  0  1]\n",
      " [ 0  0  1]\n",
      " [ 4 -2  1]]\n"
     ]
    }
   ],
   "source": [
    "X = np.vstack((x_pos,-1*x_neg))\n",
    "y = np.concatenate((y_pos,y_neg)).reshape(-1,1)\n",
    "A = np.concatenate((X,y),axis = 1)\n",
    "nagativeA = -A\n",
    "print('Matrix A =\\n',nagativeA)"
   ]
  },
  {
   "cell_type": "code",
   "execution_count": 10,
   "metadata": {},
   "outputs": [],
   "source": [
    "D = cvxopt_matrix(np.diag([1,1,0]),tc='d')\n",
    "d = cvxopt_matrix(np.array([0,0,0]),tc='d')\n",
    "negA = cvxopt_matrix(np.array(nagativeA),tc='d')\n",
    "neg1 = cvxopt_matrix(np.array([-1,-1,-1,-1,-1,-1,-1,-1]),tc='d')"
   ]
  },
  {
   "cell_type": "code",
   "execution_count": 11,
   "metadata": {},
   "outputs": [
    {
     "name": "stdout",
     "output_type": "stream",
     "text": [
      "D=\n",
      "[ 1.00e+00  0.00e+00  0.00e+00]\n",
      "[ 0.00e+00  1.00e+00  0.00e+00]\n",
      "[ 0.00e+00  0.00e+00  0.00e+00]\n",
      "d=\n",
      "[ 0.00e+00]\n",
      "[ 0.00e+00]\n",
      "[ 0.00e+00]\n",
      "negA=\n",
      "[-4.00e+00 -4.00e+00 -1.00e+00]\n",
      "[-4.00e+00 -2.00e+00 -1.00e+00]\n",
      "[-1.00e+00 -2.00e+00 -1.00e+00]\n",
      "[-4.00e+00 -2.00e+00 -1.00e+00]\n",
      "[ 4.00e+00 -4.00e+00  1.00e+00]\n",
      "[ 0.00e+00  0.00e+00  1.00e+00]\n",
      "[ 0.00e+00  0.00e+00  1.00e+00]\n",
      "[ 4.00e+00 -2.00e+00  1.00e+00]\n",
      "neg1=\n",
      "[-1.00e+00]\n",
      "[-1.00e+00]\n",
      "[-1.00e+00]\n",
      "[-1.00e+00]\n",
      "[-1.00e+00]\n",
      "[-1.00e+00]\n",
      "[-1.00e+00]\n",
      "[-1.00e+00]\n",
      "\n"
     ]
    }
   ],
   "source": [
    "print('D=\\n{}d=\\n{}negA=\\n{}neg1=\\n{}'.format(D,d,negA,neg1))"
   ]
  },
  {
   "cell_type": "code",
   "execution_count": 12,
   "metadata": {},
   "outputs": [
    {
     "name": "stdout",
     "output_type": "stream",
     "text": [
      "     pcost       dcost       gap    pres   dres\n",
      " 0:  7.7156e-02  3.7614e+00  2e+01  2e+00  2e+01\n",
      " 1:  7.3644e-01 -2.0936e+00  4e+00  3e-01  4e+00\n",
      " 2:  7.1211e-01  2.5293e-01  5e-01  4e-16  1e-16\n",
      " 3:  4.0763e-01  3.8743e-01  2e-02  4e-16  2e-16\n",
      " 4:  4.0031e-01  3.9951e-01  8e-04  4e-16  1e-15\n",
      " 5:  4.0003e-01  3.9997e-01  6e-05  4e-16  2e-14\n",
      " 6:  4.0000e-01  4.0000e-01  9e-06  4e-16  7e-13\n",
      " 7:  4.0000e-01  4.0000e-01  1e-06  5e-16  1e-12\n",
      " 8:  4.0000e-01  4.0000e-01  2e-07  2e-16  3e-12\n",
      "Optimal solution found.\n"
     ]
    }
   ],
   "source": [
    "sol = solvers.qp(D,d,negA,neg1)"
   ]
  },
  {
   "cell_type": "code",
   "execution_count": 13,
   "metadata": {},
   "outputs": [
    {
     "name": "stdout",
     "output_type": "stream",
     "text": [
      "w: [0.39964494 0.80017754]\n",
      "b: -1.0000000093442931\n"
     ]
    }
   ],
   "source": [
    "w = np.array([sol['x'][0],sol['x'][1]])\n",
    "b = sol['x'][2]\n",
    "print('w: {}\\nb: {}'.format(w,b))"
   ]
  },
  {
   "cell_type": "code",
   "execution_count": 17,
   "metadata": {},
   "outputs": [
    {
     "data": {
      "image/png": "[encoded data removed]",
      "text/plain": [
       "<Figure size 720x720 with 1 Axes>"
      ]
     },
     "metadata": {
      "needs_background": "light"
     },
     "output_type": "display_data"
    }
   ],
   "source": [
    "#H : <x,b>+b=0\n",
    "Hx1 = np.linspace(0,5)\n",
    "Hx2 = (-b-w[0]*Hx1)/w[1]\n",
    "\n",
    "#H+ : <w,x>+b=1\n",
    "Hpx1 = np.linspace(0,5)\n",
    "Hpx2 = (1-b-w[0]*Hpx1)/w[1]\n",
    "\n",
    "#H- : <w,x>+b=-1\n",
    "Hnx1 = np.linspace(0,5)\n",
    "Hnx2 = (-1-b-w[0]*Hnx1)/w[1]\n",
    "\n",
    "fig = plt.figure(figsize = (10,10))\n",
    "plt.scatter(x_neg[:,0], x_neg[:,1],s=100, marker = 'o', color = 'b', label = 'Negative -1')\n",
    "plt.scatter(x_pos[:,0], x_pos[:,1],s=200, marker = '+', color = 'r',label = 'Positive +1')\n",
    "\n",
    "plt.plot(Hx1,Hx2,color = 'darkblue')\n",
    "plt.plot(Hpx1,Hpx2, linestyle = '--', alpha = .3, color = 'orange',label = 'H+')\n",
    "plt.plot(Hnx1,Hnx2, linestyle = '--', alpha = .3, color = 'b',label = 'H-')\n",
    "\n",
    "plt.xlim(0,5)\n",
    "plt.ylim(-5,5)\n",
    "plt.xticks(np.arange(0, 5, step=1))\n",
    "plt.yticks(np.arange(0, 5, step=1))\n",
    "\n",
    "#Labels and show\n",
    "plt.xlabel('$x_1$')\n",
    "plt.ylabel('$x_2$')\n",
    "plt.legend()\n",
    "plt.show()"
   ]
  },
  {
   "cell_type": "code",
   "execution_count": null,
   "metadata": {},
   "outputs": [],
   "source": []
  }
 ],
 "metadata": {
  "kernelspec": {
   "display_name": "Python 3",
   "language": "python",
   "name": "python3"
  },
  "language_info": {
   "codemirror_mode": {
    "name": "ipython",
    "version": 3
   },
   "file_extension": ".py",
   "mimetype": "text/x-python",
   "name": "python",
   "nbconvert_exporter": "python",
   "pygments_lexer": "ipython3",
   "version": "3.7.5"
  }
 },
 "nbformat": 4,
 "nbformat_minor": 2
}
