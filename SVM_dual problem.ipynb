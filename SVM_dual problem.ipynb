{
 "cells": [
  {
   "cell_type": "code",
   "execution_count": 1,
   "metadata": {},
   "outputs": [],
   "source": [
    "#Importing with custom names to avoid issues with numpy / sympy matrix\n",
    "from cvxopt import matrix as cvxopt_matrix\n",
    "from cvxopt import solvers as cvxopt_solvers\n",
    "import numpy as np"
   ]
  },
  {
   "cell_type": "code",
   "execution_count": 23,
   "metadata": {},
   "outputs": [],
   "source": [
    "#Initializing values and computing H. Note the 1. to force to float type\n",
    "x_neg = np.array([[4,2],[2,4],[4,4]])\n",
    "y_neg = np.array([-1,-1,-1])\n",
    "x_pos = np.array([[2,2]])\n",
    "y_pos = np.array([1])\n",
    "\n",
    "#Data for the next section\n",
    "X = np.vstack((x_pos, x_neg))\n",
    "y = np.concatenate((y_pos,y_neg))\n",
    "m,n = X.shape #Size of matrix\n",
    "y = y.reshape(-1,1)*1.0 # multiply by 1.0 for made it to float number\n",
    "\n",
    "X_dash = y * X\n",
    "QQ = np.dot(X_dash , X_dash.T)*1.0"
   ]
  },
  {
   "cell_type": "code",
   "execution_count": 24,
   "metadata": {},
   "outputs": [],
   "source": [
    "#Converting into cvxopt format\n",
    "Q = cvxopt_matrix(QQ)\n",
    "e = cvxopt_matrix(-np.ones((m, 1)))\n",
    "I = cvxopt_matrix(-np.eye(m))\n",
    "vectorZero = cvxopt_matrix(np.zeros(m)) \n",
    "y_tran = cvxopt_matrix(y.reshape(1, -1))\n",
    "Zero = cvxopt_matrix(np.zeros(1))"
   ]
  },
  {
   "cell_type": "code",
   "execution_count": 29,
   "metadata": {},
   "outputs": [
    {
     "name": "stdout",
     "output_type": "stream",
     "text": [
      "Q=\n",
      "[ 8.00e+00 -1.20e+01 -1.20e+01 -1.60e+01]\n",
      "[-1.20e+01  2.00e+01  1.60e+01  2.40e+01]\n",
      "[-1.20e+01  1.60e+01  2.00e+01  2.40e+01]\n",
      "[-1.60e+01  2.40e+01  2.40e+01  3.20e+01]\n",
      "e=\n",
      "[-1.00e+00]\n",
      "[-1.00e+00]\n",
      "[-1.00e+00]\n",
      "[-1.00e+00]\n",
      "I=\n",
      "[-1.00e+00 -0.00e+00 -0.00e+00 -0.00e+00]\n",
      "[-0.00e+00 -1.00e+00 -0.00e+00 -0.00e+00]\n",
      "[-0.00e+00 -0.00e+00 -1.00e+00 -0.00e+00]\n",
      "[-0.00e+00 -0.00e+00 -0.00e+00 -1.00e+00]\n",
      "vectorZero=\n",
      "[ 0.00e+00]\n",
      "[ 0.00e+00]\n",
      "[ 0.00e+00]\n",
      "[ 0.00e+00]\n",
      "y_tran=\n",
      "[ 1.00e+00 -1.00e+00 -1.00e+00 -1.00e+00]\n",
      "Zero=\n",
      "[ 0.00e+00]\n",
      "\n"
     ]
    }
   ],
   "source": [
    "print('Q=\\n{}e=\\n{}I=\\n{}vectorZero=\\n{}y_tran=\\n{}Zero=\\n{}'.format(Q,e,I,vectorZero,y_tran,Zero))"
   ]
  },
  {
   "cell_type": "code",
   "execution_count": 30,
   "metadata": {},
   "outputs": [],
   "source": [
    "#Setting solver parameters (change default to decrease tolerance) \n",
    "cvxopt_solvers.options['show_progress'] = False\n",
    "cvxopt_solvers.options['abstol'] = 1e-10\n",
    "cvxopt_solvers.options['reltol'] = 1e-10\n",
    "cvxopt_solvers.options['feastol'] = 1e-10"
   ]
  },
  {
   "cell_type": "code",
   "execution_count": 49,
   "metadata": {},
   "outputs": [
    {
     "name": "stdout",
     "output_type": "stream",
     "text": [
      "Alphas=\n",
      " [[1.00000000e+00]\n",
      " [5.00000000e-01]\n",
      " [5.00000000e-01]\n",
      " [1.92369414e-12]]\n"
     ]
    }
   ],
   "source": [
    "#Run solver\n",
    "sol = cvxopt_solvers.qp(Q,e,I,vectorZero,y_tran,Zero)\n",
    "alphas = np.array(sol['x'])\n",
    "print('Alphas=\\n',alphas)"
   ]
  },
  {
   "cell_type": "code",
   "execution_count": 89,
   "metadata": {},
   "outputs": [],
   "source": [
    "#w parameter in vectorized form\n",
    "w = (np.dot((y * alphas).T, X)).reshape(-1,1)\n",
    "#Selecting the set of indices S corresponding to non zero parameters\n",
    "S = (alphas > 1e-10).flatten()\n",
    "#Computing b\n",
    "b = y[S] - np.dot(X[S], w)"
   ]
  },
  {
   "cell_type": "code",
   "execution_count": 100,
   "metadata": {},
   "outputs": [
    {
     "name": "stdout",
     "output_type": "stream",
     "text": [
      "Alphas =  [1.00000000e+00 5.00000000e-01 5.00000000e-01 1.92369414e-12]\n",
      "w = -1.000000000002493,-1.0000000000024933\n",
      "b =  5.0000000000099725\n"
     ]
    }
   ],
   "source": [
    "#Display results\n",
    "print('Alphas = ',alphas[alphas > 0])\n",
    "print('w = {},{}'.format(w[0][0],w[1][0]))\n",
    "print('b = ', b[0][0])"
   ]
  },
  {
   "cell_type": "code",
   "execution_count": null,
   "metadata": {},
   "outputs": [],
   "source": []
  }
 ],
 "metadata": {
  "kernelspec": {
   "display_name": "Python 3",
   "language": "python",
   "name": "python3"
  },
  "language_info": {
   "codemirror_mode": {
    "name": "ipython",
    "version": 3
   },
   "file_extension": ".py",
   "mimetype": "text/x-python",
   "name": "python",
   "nbconvert_exporter": "python",
   "pygments_lexer": "ipython3",
   "version": "3.7.5"
  }
 },
 "nbformat": 4,
 "nbformat_minor": 2
}
